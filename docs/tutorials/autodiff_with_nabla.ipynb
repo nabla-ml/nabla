{
 "cells": [
  {
   "cell_type": "markdown",
   "id": "88f08010",
   "metadata": {},
   "source": [
    "# Automatic Differentiation with Nabla"
   ]
  },
  {
   "cell_type": "markdown",
   "id": "9ded945b",
   "metadata": {},
   "source": [
    "This notebook explores the core capabilities of automatic differentiation (AD). The central idea of AD is to efficiently compute the action of the Jacobian matrix, rather than materializing the large matrix itself.\n",
    "\n",
    "### The Jacobian: The Full Derivative\n",
    "\n",
    "For any differentiable function $f: \\mathbb{R}^n \\to \\mathbb{R}^m$, its derivative at a point $x$ is the unique linear map $df_x: \\mathbb{R}^n \\to \\mathbb{R}^m$ that provides the best linear approximation of the function's change. The **Jacobian matrix**, $J_f(x)$, is the matrix representation of this linear map with respect to the standard bases. It is an $m \\times n$ matrix of all first-order partial derivatives:\n",
    "\n",
    "$$\n",
    "(J_f(x))_{ij} = \\frac{\\partial f_i}{\\partial x_j}\n",
    "$$\n",
    "\n",
    "For complex models where $n$ and $m$ are large, constructing this matrix is often infeasible. AD provides an efficient way to compute its products with vectors.\n",
    "\n",
    "### 1. Jacobian-Vector Product (JVP): The \"Pushforward\"\n",
    "\n",
    "The JVP is the core operation of **forward-mode AD**. It computes the **directional derivative** of the function $f$ at a point $x$ along a tangent vector $v \\in \\mathbb{R}^n$. This is achieved by computing the product:\n",
    "\n",
    "$$\n",
    "\\text{JVP}_f(x)(v) = J_f(x) v\n",
    "$$\n",
    "\n",
    "The result is a vector in the output space $\\mathbb{R}^m$ representing the **rate of change** of the output in the direction of $v$. It gives a linear approximation of the function's change: $f(x+v) \\approx f(x) + J_f(x)v$. This operation is computed *without ever explicitly forming* the full Jacobian matrix.\n",
    "\n",
    "### 2. Vector-Jacobian Product (VJP): The \"Pullback\"\n",
    "\n",
    "The VJP is the core operation of **reverse-mode AD**, the engine behind **backpropagation**. It computes the product of the transposed Jacobian $J_f(x)^T$ with a \"cotangent\" vector $u \\in \\mathbb{R}^m$.\n",
    "\n",
    "$$\n",
    "\\text{VJP}_f(x)(u) = J_f(x)^T u\n",
    "$$\n",
    "\n",
    "This operation \"pulls back\" the cotangent vector $u$ from the output space to the input space. Its critical application is in the chain rule: if $f$ is part of a larger composition $g(x) = L(f(x))$, where $L: \\mathbb{R}^m \\to \\mathbb{R}$ is a scalar function, the VJP calculates the gradient of $g$ when provided with the gradient of $L$. Specifically, if $u = \\nabla L$, then $\\nabla g = \\text{VJP}_f(x)(u)$.\n",
    "\n",
    "--- \n",
    "\n",
    "![image.png](../_static/pushfwd_pullbck.png)\n",
    "\n",
    "---\n",
    "\n",
    "In this notebook, we will use `nabla` to compute the JVP and VJP for a function $f$ that takes an input from $\\mathbb{R}^{2k}$ and maps it to $\\mathbb{R}^k$, defined for inputs $(x_1, x_2)$ with $x_1, x_2 \\in \\mathbb{R}^k$ as:\n",
    "\n",
    "$$ f(x_1, x_2) = \\cos(x_1 \\odot x_2) \\odot \\log(x_2) $$\n",
    "\n",
    "We will then see how these fundamental operations can be composed to construct the full Jacobian and second-order derivatives (the Hessian)."
   ]
  },
  {
   "cell_type": "markdown",
   "id": "b93dff0c",
   "metadata": {},
   "source": [
    "#### Setup"
   ]
  },
  {
   "cell_type": "code",
   "execution_count": 3,
   "id": "891c090c",
   "metadata": {},
   "outputs": [
    {
     "name": "stdout",
     "output_type": "stream",
     "text": [
      "🎉 Nabla is ready! Running on Python 3.12\n"
     ]
    }
   ],
   "source": [
    "import sys\n",
    "import subprocess\n",
    "\n",
    "try:\n",
    "    import nabla as nb\n",
    "except ImportError:\n",
    "    print(\"Installing nabla...\")\n",
    "    subprocess.check_call([sys.executable, \"-m\", \"pip\", \"install\", \"-q\", \"nabla-ml\"])\n",
    "    import nabla as nb\n",
    "\n",
    "print(\n",
    "    f\"🎉 Nabla is ready! Running on Python {sys.version_info.major}.{sys.version_info.minor}\"\n",
    ")"
   ]
  },
  {
   "cell_type": "markdown",
   "id": "86ab639e",
   "metadata": {},
   "source": [
    "#### Function Definition"
   ]
  },
  {
   "cell_type": "code",
   "execution_count": 4,
   "id": "d432787b",
   "metadata": {},
   "outputs": [],
   "source": [
    "def my_program(x1: nb.Array, x2: nb.Array) -> nb.Array:\n",
    "    a = x1 * x2\n",
    "    b = nb.cos(a)\n",
    "    c = nb.log(x2)\n",
    "    y = b * c\n",
    "    return y"
   ]
  },
  {
   "cell_type": "markdown",
   "id": "dc73521d",
   "metadata": {},
   "source": [
    "#### Compute the regular forward pass."
   ]
  },
  {
   "cell_type": "code",
   "execution_count": 5,
   "id": "aa2d667e",
   "metadata": {},
   "outputs": [
    {
     "name": "stdout",
     "output_type": "stream",
     "text": [
      "x1: [1. 2. 3.]:\u001b[95mf32[3]\u001b[0m\n",
      "x2: [2. 3. 4.]:\u001b[95mf32[3]\u001b[0m\n",
      "fwd_output: [-0.288451   1.0548549  1.16983  ]:\u001b[95mf32[3]\u001b[0m\n"
     ]
    }
   ],
   "source": [
    "# init input arrays\n",
    "x1 = nb.array([1.0, 2.0, 3.0])\n",
    "x2 = nb.array([2.0, 3.0, 4.0])\n",
    "print(\"x1:\", x1)\n",
    "print(\"x2:\", x2)\n",
    "\n",
    "# compute the value of the program\n",
    "value = my_program(x1, x2)\n",
    "print(\"fwd_output:\", value)"
   ]
  },
  {
   "cell_type": "markdown",
   "id": "a7f68b25",
   "metadata": {},
   "source": [
    "#### Compute the JVP (Jacobian-Vector Product)"
   ]
  },
  {
   "cell_type": "code",
   "execution_count": 6,
   "id": "8d036657",
   "metadata": {},
   "outputs": [
    {
     "name": "stdout",
     "output_type": "stream",
     "text": [
      "x1_tangent: [1.7640524 0.4001572 0.978738 ]:\u001b[95mf32[3]\u001b[0m\n",
      "x2_tangent: [1.7640524 0.4001572 0.978738 ]:\u001b[95mf32[3]\u001b[0m\n",
      "value: [-0.288451   1.0548549  1.16983  ]:\u001b[95mf32[3]\u001b[0m\n",
      "value_tangent: [-3.7025769   0.74225295  5.3027043 ]:\u001b[95mf32[3]\u001b[0m\n"
     ]
    }
   ],
   "source": [
    "# init input tangents\n",
    "x1_tangent = nb.randn_like(x1)\n",
    "x2_tangent = nb.randn_like(x2)\n",
    "print(\"x1_tangent:\", x1_tangent)\n",
    "print(\"x2_tangent:\", x2_tangent)\n",
    "\n",
    "# compute the actual jvp\n",
    "value, value_tangent = nb.jvp(my_program, (x1, x2), (x1_tangent, x2_tangent))\n",
    "print(\"value:\", value)\n",
    "print(\"value_tangent:\", value_tangent)"
   ]
  },
  {
   "cell_type": "markdown",
   "id": "027cbbbc",
   "metadata": {},
   "source": [
    "#### Compute the VJP (Vector-Jacobian Product)"
   ]
  },
  {
   "cell_type": "code",
   "execution_count": 7,
   "id": "b983c1b4",
   "metadata": {},
   "outputs": [
    {
     "name": "stdout",
     "output_type": "stream",
     "text": [
      "value: [-0.288451   1.0548549  1.16983  ]:\u001b[95mf32[3]\u001b[0m\n",
      "value_cotangent: [1.7640524 0.4001572 0.978738 ]:\u001b[95mf32[3]\u001b[0m\n",
      "x1_cotangent: [-2.223683    0.36850792  2.9121294 ]:\u001b[95mf32[3]\u001b[0m\n",
      "x2_cotangent: [-1.478894    0.37374496  2.390575  ]:\u001b[95mf32[3]\u001b[0m\n"
     ]
    }
   ],
   "source": [
    "# compute value and pullback function\n",
    "value, pullback = nb.vjp(my_program, x1, x2)\n",
    "print(\"value:\", value)\n",
    "\n",
    "# init output cotangent\n",
    "value_cotangent = nb.randn_like(value)\n",
    "print(\"value_cotangent:\", value_cotangent)\n",
    "\n",
    "# compute the actual vjp\n",
    "x1_cotangent, x2_cotangent = pullback(value_cotangent)\n",
    "print(\"x1_cotangent:\", x1_cotangent)\n",
    "print(\"x2_cotangent:\", x2_cotangent)"
   ]
  },
  {
   "cell_type": "markdown",
   "id": "fee5867e",
   "metadata": {},
   "source": [
    "#### Compute the full Jacobian automatically (vmap + vjp aka. batched reverse-mode AD)"
   ]
  },
  {
   "cell_type": "code",
   "execution_count": 8,
   "id": "0826a10a",
   "metadata": {},
   "outputs": [
    {
     "name": "stdout",
     "output_type": "stream",
     "text": [
      "jacobian: [[[-1.2605538   0.          0.        ]\n",
      " [-0.          0.92090786  0.        ]\n",
      " [-0.          0.          2.975392  ]]:\u001b[95mf32[3\u001b[95m,\u001b[95m3]\u001b[0m, [[-0.8383503   0.          0.        ]\n",
      " [-0.          0.93399537  0.        ]\n",
      " [-0.          0.          2.4425075 ]]:\u001b[95mf32[3\u001b[95m,\u001b[95m3]\u001b[0m]\n"
     ]
    }
   ],
   "source": [
    "jac_fn = nb.jacrev(my_program)\n",
    "jacobian = jac_fn(x1, x2)\n",
    "print(\"jacobian:\", jacobian)"
   ]
  },
  {
   "cell_type": "markdown",
   "id": "364cfbe9",
   "metadata": {},
   "source": [
    "#### Compute the full Jacobian automatically (vmap + jvp aka. batched forward-mode AD)"
   ]
  },
  {
   "cell_type": "code",
   "execution_count": 9,
   "id": "3e10d51d",
   "metadata": {},
   "outputs": [
    {
     "name": "stdout",
     "output_type": "stream",
     "text": [
      "jacobian: [[[-1.2605538  -0.         -0.        ]\n",
      " [ 0.          0.92090786  0.        ]\n",
      " [ 0.          0.          2.975392  ]]:\u001b[95mf32[3\u001b[95m,\u001b[95m3]\u001b[0m, [[-0.8383503  -0.         -0.        ]\n",
      " [ 0.          0.93399537  0.        ]\n",
      " [ 0.          0.          2.4425075 ]]:\u001b[95mf32[3\u001b[95m,\u001b[95m3]\u001b[0m]\n"
     ]
    }
   ],
   "source": [
    "jac_fn = nb.jacfwd(my_program)\n",
    "jacobian = jac_fn(x1, x2)\n",
    "print(\"jacobian:\", jacobian)"
   ]
  },
  {
   "cell_type": "markdown",
   "id": "b1829540",
   "metadata": {},
   "source": [
    "#### Compute the full Hessian automatically (Forward-over-Reverse)"
   ]
  },
  {
   "cell_type": "code",
   "execution_count": 10,
   "id": "eeff8d09",
   "metadata": {},
   "outputs": [
    {
     "name": "stdout",
     "output_type": "stream",
     "text": [
      "hessian: [[[[[  1.153804  -0.        -0.      ]\n",
      "  [  0.         0.         0.      ]\n",
      "  [  0.         0.         0.      ]]\n",
      "\n",
      " [[ -0.        -0.        -0.      ]\n",
      "  [  0.        -9.493694   0.      ]\n",
      "  [  0.         0.         0.      ]]\n",
      "\n",
      " [[ -0.        -0.        -0.      ]\n",
      "  [  0.         0.         0.      ]\n",
      "  [  0.         0.       -18.71728 ]]]:\u001b[95mf32[3\u001b[95m,\u001b[95m3\u001b[95m,\u001b[95m3]\u001b[0m, [[[ -0.96267235   0.           0.        ]\n",
      "  [  0.           0.           0.        ]\n",
      "  [  0.           0.           0.        ]]\n",
      "\n",
      " [[  0.           0.           0.        ]\n",
      "  [  0.          -5.7427444    0.        ]\n",
      "  [  0.           0.           0.        ]]\n",
      "\n",
      " [[  0.           0.           0.        ]\n",
      "  [  0.           0.           0.        ]\n",
      "  [  0.           0.         -12.75754   ]]]:\u001b[95mf32[3\u001b[95m,\u001b[95m3\u001b[95m,\u001b[95m3]\u001b[0m], [[[[ -0.96267235  -0.          -0.        ]\n",
      "  [  0.           0.           0.        ]\n",
      "  [  0.           0.           0.        ]]\n",
      "\n",
      " [[ -0.          -0.          -0.        ]\n",
      "  [  0.          -5.742745     0.        ]\n",
      "  [  0.           0.           0.        ]]\n",
      "\n",
      " [[ -0.          -0.          -0.        ]\n",
      "  [  0.           0.           0.        ]\n",
      "  [  0.           0.         -12.757539  ]]]:\u001b[95mf32[3\u001b[95m,\u001b[95m3\u001b[95m,\u001b[95m3]\u001b[0m, [[[-0.5168097  0.         0.       ]\n",
      "  [ 0.         0.         0.       ]\n",
      "  [ 0.         0.         0.       ]]\n",
      "\n",
      " [[ 0.         0.         0.       ]\n",
      "  [ 0.        -3.953551   0.       ]\n",
      "  [ 0.         0.         0.       ]]\n",
      "\n",
      " [[ 0.         0.         0.       ]\n",
      "  [ 0.         0.         0.       ]\n",
      "  [ 0.         0.        -9.776351 ]]]:\u001b[95mf32[3\u001b[95m,\u001b[95m3\u001b[95m,\u001b[95m3]\u001b[0m]]\n"
     ]
    }
   ],
   "source": [
    "jac_fn = nb.jacrev(my_program)\n",
    "hessian_fn = nb.jacfwd(jac_fn)\n",
    "hessian = hessian_fn(x1, x2)\n",
    "print(\"hessian:\", hessian)"
   ]
  },
  {
   "cell_type": "markdown",
   "id": "671b3974",
   "metadata": {},
   "source": [
    "#### Compute the full Hessian automatically (Reverse-over-Forward)"
   ]
  },
  {
   "cell_type": "code",
   "execution_count": 11,
   "id": "ad5252fa",
   "metadata": {},
   "outputs": [
    {
     "name": "stdout",
     "output_type": "stream",
     "text": [
      "hessian: [[[[[  1.153804   0.         0.      ]\n",
      "  [  0.         0.         0.      ]\n",
      "  [  0.         0.         0.      ]]\n",
      "\n",
      " [[  0.         0.         0.      ]\n",
      "  [  0.        -9.493694   0.      ]\n",
      "  [  0.         0.         0.      ]]\n",
      "\n",
      " [[  0.         0.         0.      ]\n",
      "  [  0.         0.         0.      ]\n",
      "  [  0.         0.       -18.71728 ]]]:\u001b[95mf32[3\u001b[95m,\u001b[95m3\u001b[95m,\u001b[95m3]\u001b[0m, [[[ -0.9626724   0.          0.       ]\n",
      "  [  0.          0.          0.       ]\n",
      "  [  0.          0.          0.       ]]\n",
      "\n",
      " [[  0.          0.          0.       ]\n",
      "  [  0.         -5.7427444   0.       ]\n",
      "  [  0.          0.          0.       ]]\n",
      "\n",
      " [[  0.          0.          0.       ]\n",
      "  [  0.          0.          0.       ]\n",
      "  [  0.          0.        -12.757539 ]]]:\u001b[95mf32[3\u001b[95m,\u001b[95m3\u001b[95m,\u001b[95m3]\u001b[0m], [[[[ -0.96267235   0.           0.        ]\n",
      "  [  0.           0.           0.        ]\n",
      "  [  0.           0.           0.        ]]\n",
      "\n",
      " [[  0.           0.           0.        ]\n",
      "  [  0.          -5.742745     0.        ]\n",
      "  [  0.           0.           0.        ]]\n",
      "\n",
      " [[  0.           0.           0.        ]\n",
      "  [  0.           0.           0.        ]\n",
      "  [  0.           0.         -12.757539  ]]]:\u001b[95mf32[3\u001b[95m,\u001b[95m3\u001b[95m,\u001b[95m3]\u001b[0m, [[[-0.5168097  0.         0.       ]\n",
      "  [ 0.         0.         0.       ]\n",
      "  [ 0.         0.         0.       ]]\n",
      "\n",
      " [[ 0.         0.         0.       ]\n",
      "  [ 0.        -3.953551   0.       ]\n",
      "  [ 0.         0.         0.       ]]\n",
      "\n",
      " [[ 0.         0.         0.       ]\n",
      "  [ 0.         0.         0.       ]\n",
      "  [ 0.         0.        -9.776351 ]]]:\u001b[95mf32[3\u001b[95m,\u001b[95m3\u001b[95m,\u001b[95m3]\u001b[0m]]\n"
     ]
    }
   ],
   "source": [
    "jac_fn = nb.jacfwd(my_program)\n",
    "hessian_fn = nb.jacrev(jac_fn)\n",
    "hessian = hessian_fn(x1, x2)\n",
    "print(\"hessian:\", hessian)"
   ]
  }
 ],
 "metadata": {
  "kernelspec": {
   "display_name": "Python (nabla-env)",
   "language": "python",
   "name": "nabla-env"
  },
  "language_info": {
   "codemirror_mode": {
    "name": "ipython",
    "version": 3
   },
   "file_extension": ".py",
   "mimetype": "text/x-python",
   "name": "python",
   "nbconvert_exporter": "python",
   "pygments_lexer": "ipython3",
   "version": "3.12.4"
  }
 },
 "nbformat": 4,
 "nbformat_minor": 5
}
