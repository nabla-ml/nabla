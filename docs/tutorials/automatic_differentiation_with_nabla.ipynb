{
 "cells": [
  {
   "cell_type": "markdown",
   "id": "88f08010",
   "metadata": {},
   "source": [
    "# Automatic Differentiation with Nabla"
   ]
  },
  {
   "cell_type": "markdown",
   "id": "9ded945b",
   "metadata": {},
   "source": [
    "In this notebook, we'll explore the core automatic differentiation (AD) capabilities of `nabla`. We will start with a simple multivariate function and then demonstrate how to compute its derivatives in various forms.\n",
    "\n",
    "### Our Example Program\n",
    "\n",
    "Let's consider the following function $f: \\mathbb{R}^n \\times \\mathbb{R}^n \\to \\mathbb{R}^n$ as our running example:\n",
    "\n",
    "$$ f(x_1, x_2) = \\cos(x_1 \\odot x_2) \\odot \\log(x_2) $$\n",
    "\n",
    "where $\\odot$ denotes the element-wise product.\n",
    "\n",
    "Using `nabla`, we will compute the following quantities for this function:\n",
    "1.  **Jacobian-Vector Product (JVP)**: The product of the Jacobian of $f$ with a given tangent vector $v$. This is also known as a directional derivative.\n",
    "    $$ \\text{JVP}_f(x)(v) = J_f(x) v $$\n",
    "\n",
    "2.  **Vector-Jacobian Product (VJP)**: The product of the transposed Jacobian of $f$ with a cotangent vector $v$. This is the fundamental operation in reverse-mode AD, often used for computing gradients. It's equivalent to left-multiplying the Jacobian by the row vector $v^T$, i.e., $v^T J_f(x)$.\n",
    "    $$ \\text{VJP}_f(x)(v) = J_f(x)^T v $$\n",
    "\n",
    "3.  **Full Jacobian**: The matrix of all first-order partial derivatives. For a function $f: \\mathbb{R}^m \\to \\mathbb{R}^k$, the Jacobian is a $k \\times m$ matrix. In our case, `nabla` computes the Jacobian with respect to each input argument, resulting in a tuple of Jacobian matrices. These can be high-dimensional tensors if the inputs or outputs are themselves multi-dimensional arrays.\n",
    "    $$ (J_f)_{ij} = \\frac{\\partial f_i}{\\partial x_j} $$\n",
    "\n",
    "4.  **Full Hessian**: The tensor of all second-order partial derivatives. The Hessian is the Jacobian of the gradient. For a function with multi-dimensional inputs and outputs, this can be a high-rank tensor.\n",
    "    $$ (H_f)_{ijk} = \\frac{\\partial^2 f_i}{\\partial x_j \\partial x_k} $$\n"
   ]
  },
  {
   "cell_type": "code",
   "execution_count": 23,
   "id": "d432787b",
   "metadata": {},
   "outputs": [],
   "source": [
    "import nabla as nb\n",
    "\n",
    "\n",
    "def my_program(x1: nb.Array, x2: nb.Array) -> nb.Array:\n",
    "    a = x1 * x2\n",
    "    b = nb.cos(a)\n",
    "    c = nb.log(x2)\n",
    "    y = b * c\n",
    "    return y"
   ]
  },
  {
   "cell_type": "markdown",
   "id": "dc73521d",
   "metadata": {},
   "source": [
    "#### Compute the regular forward pass."
   ]
  },
  {
   "cell_type": "code",
   "execution_count": 31,
   "id": "aa2d667e",
   "metadata": {},
   "outputs": [
    {
     "name": "stdout",
     "output_type": "stream",
     "text": [
      "x1: [1. 2. 3.]:\u001b[95mf32[3]\u001b[0m\n",
      "x2: [2. 3. 4.]:\u001b[95mf32[3]\u001b[0m\n",
      "fwd_output: [-0.288451   1.0548549  1.16983  ]:\u001b[95mf32[3]\u001b[0m\n"
     ]
    }
   ],
   "source": [
    "# init input arrays\n",
    "x1 = nb.array([1.0, 2.0, 3.0])\n",
    "x2 = nb.array([2.0, 3.0, 4.0])\n",
    "print(\"x1:\", x1)\n",
    "print(\"x2:\", x2)\n",
    "\n",
    "# compute the value of the program\n",
    "value = my_program(x1, x2)\n",
    "print(\"fwd_output:\", value)"
   ]
  },
  {
   "cell_type": "markdown",
   "id": "a7f68b25",
   "metadata": {},
   "source": [
    "#### Compute the JVP (Jacobian-Vector Product)"
   ]
  },
  {
   "cell_type": "code",
   "execution_count": 32,
   "id": "8d036657",
   "metadata": {},
   "outputs": [
    {
     "name": "stdout",
     "output_type": "stream",
     "text": [
      "x1_tangent: [1.7640524 0.4001572 0.978738 ]:\u001b[95mf32[3]\u001b[0m\n",
      "x2_tangent: [1.7640524 0.4001572 0.978738 ]:\u001b[95mf32[3]\u001b[0m\n",
      "value: [-0.288451   1.0548549  1.16983  ]:\u001b[95mf32[3]\u001b[0m\n",
      "value_tangent: [-3.7025769   0.74225295  5.3027043 ]:\u001b[95mf32[3]\u001b[0m\n"
     ]
    }
   ],
   "source": [
    "# init input tangents\n",
    "x1_tangent = nb.randn_like(x1)\n",
    "x2_tangent = nb.randn_like(x2)\n",
    "print(\"x1_tangent:\", x1_tangent)\n",
    "print(\"x2_tangent:\", x2_tangent)\n",
    "\n",
    "# compute the actual jvp\n",
    "value, value_tangent = nb.jvp(my_program, (x1, x2), (x1_tangent, x2_tangent))\n",
    "print(\"value:\", value)\n",
    "print(\"value_tangent:\", value_tangent)"
   ]
  },
  {
   "cell_type": "markdown",
   "id": "027cbbbc",
   "metadata": {},
   "source": [
    "#### Compute the VJP (Vector-Jacobian Product)"
   ]
  },
  {
   "cell_type": "code",
   "execution_count": 33,
   "id": "b983c1b4",
   "metadata": {},
   "outputs": [
    {
     "name": "stdout",
     "output_type": "stream",
     "text": [
      "value: [-0.288451   1.0548549  1.16983  ]:\u001b[95mf32[3]\u001b[0m\n",
      "value_cotangent: [1.7640524 0.4001572 0.978738 ]:\u001b[95mf32[3]\u001b[0m\n",
      "x1_cotangent: [-2.223683    0.36850792  2.9121294 ]:\u001b[95mf32[3]\u001b[0m\n",
      "x2_cotangent: [-1.478894    0.37374496  2.390575  ]:\u001b[95mf32[3]\u001b[0m\n"
     ]
    }
   ],
   "source": [
    "# compute value and pullback function\n",
    "value, pullback = nb.vjp(my_program, x1, x2)\n",
    "print(\"value:\", value)\n",
    "\n",
    "# init output cotangent\n",
    "value_cotangent = nb.randn_like(value)\n",
    "print(\"value_cotangent:\", value_cotangent)\n",
    "\n",
    "# compute the actual vjp\n",
    "x1_cotangent, x2_cotangent = pullback(value_cotangent)\n",
    "print(\"x1_cotangent:\", x1_cotangent)\n",
    "print(\"x2_cotangent:\", x2_cotangent)"
   ]
  },
  {
   "cell_type": "markdown",
   "id": "fee5867e",
   "metadata": {},
   "source": [
    "#### Compute the full Jacobian automatically (vmap + vjp aka. batched reverse-mode AD)"
   ]
  },
  {
   "cell_type": "code",
   "execution_count": 34,
   "id": "0826a10a",
   "metadata": {},
   "outputs": [
    {
     "name": "stdout",
     "output_type": "stream",
     "text": [
      "jacobian: [[[-1.2605538   0.          0.        ]\n",
      " [-0.          0.92090786  0.        ]\n",
      " [-0.          0.          2.975392  ]]:\u001b[95mf32[3\u001b[95m,\u001b[95m3]\u001b[0m, [[-0.8383503   0.          0.        ]\n",
      " [-0.          0.93399537  0.        ]\n",
      " [-0.          0.          2.4425075 ]]:\u001b[95mf32[3\u001b[95m,\u001b[95m3]\u001b[0m]\n"
     ]
    }
   ],
   "source": [
    "jac_fn = nb.jacrev(my_program)\n",
    "jacobian = jac_fn(x1, x2)\n",
    "print(\"jacobian:\", jacobian)"
   ]
  },
  {
   "cell_type": "markdown",
   "id": "364cfbe9",
   "metadata": {},
   "source": [
    "#### Compute the full Jacobian automatically (vmap + jvp aka. batched forward-mode AD)"
   ]
  },
  {
   "cell_type": "code",
   "execution_count": 35,
   "id": "3e10d51d",
   "metadata": {},
   "outputs": [
    {
     "name": "stdout",
     "output_type": "stream",
     "text": [
      "jacobian: [[[-1.2605538  -0.         -0.        ]\n",
      " [ 0.          0.92090786  0.        ]\n",
      " [ 0.          0.          2.975392  ]]:\u001b[95mf32[3\u001b[95m,\u001b[95m3]\u001b[0m, [[-0.8383503  -0.         -0.        ]\n",
      " [ 0.          0.93399537  0.        ]\n",
      " [ 0.          0.          2.4425075 ]]:\u001b[95mf32[3\u001b[95m,\u001b[95m3]\u001b[0m]\n"
     ]
    }
   ],
   "source": [
    "jac_fn = nb.jacfwd(my_program)\n",
    "jacobian = jac_fn(x1, x2)\n",
    "print(\"jacobian:\", jacobian)"
   ]
  },
  {
   "cell_type": "markdown",
   "id": "b1829540",
   "metadata": {},
   "source": [
    "#### Compute the full Hessian automatically (Forward-over-Reverse)"
   ]
  },
  {
   "cell_type": "code",
   "execution_count": 36,
   "id": "eeff8d09",
   "metadata": {},
   "outputs": [
    {
     "name": "stdout",
     "output_type": "stream",
     "text": [
      "hessian: [[[[[  1.153804  -0.        -0.      ]\n",
      "  [  0.         0.         0.      ]\n",
      "  [  0.         0.         0.      ]]\n",
      "\n",
      " [[ -0.        -0.        -0.      ]\n",
      "  [  0.        -9.493694   0.      ]\n",
      "  [  0.         0.         0.      ]]\n",
      "\n",
      " [[ -0.        -0.        -0.      ]\n",
      "  [  0.         0.         0.      ]\n",
      "  [  0.         0.       -18.71728 ]]]:\u001b[95mf32[3\u001b[95m,\u001b[95m3\u001b[95m,\u001b[95m3]\u001b[0m, [[[ -0.96267235   0.           0.        ]\n",
      "  [  0.           0.           0.        ]\n",
      "  [  0.           0.           0.        ]]\n",
      "\n",
      " [[  0.           0.           0.        ]\n",
      "  [  0.          -5.7427444    0.        ]\n",
      "  [  0.           0.           0.        ]]\n",
      "\n",
      " [[  0.           0.           0.        ]\n",
      "  [  0.           0.           0.        ]\n",
      "  [  0.           0.         -12.75754   ]]]:\u001b[95mf32[3\u001b[95m,\u001b[95m3\u001b[95m,\u001b[95m3]\u001b[0m], [[[[ -0.96267235  -0.          -0.        ]\n",
      "  [  0.           0.           0.        ]\n",
      "  [  0.           0.           0.        ]]\n",
      "\n",
      " [[ -0.          -0.          -0.        ]\n",
      "  [  0.          -5.742745     0.        ]\n",
      "  [  0.           0.           0.        ]]\n",
      "\n",
      " [[ -0.          -0.          -0.        ]\n",
      "  [  0.           0.           0.        ]\n",
      "  [  0.           0.         -12.757539  ]]]:\u001b[95mf32[3\u001b[95m,\u001b[95m3\u001b[95m,\u001b[95m3]\u001b[0m, [[[-0.5168097  0.         0.       ]\n",
      "  [ 0.         0.         0.       ]\n",
      "  [ 0.         0.         0.       ]]\n",
      "\n",
      " [[ 0.         0.         0.       ]\n",
      "  [ 0.        -3.953551   0.       ]\n",
      "  [ 0.         0.         0.       ]]\n",
      "\n",
      " [[ 0.         0.         0.       ]\n",
      "  [ 0.         0.         0.       ]\n",
      "  [ 0.         0.        -9.776351 ]]]:\u001b[95mf32[3\u001b[95m,\u001b[95m3\u001b[95m,\u001b[95m3]\u001b[0m]]\n"
     ]
    }
   ],
   "source": [
    "jac_fn = nb.jacrev(my_program)\n",
    "hessian_fn = nb.jacfwd(jac_fn)\n",
    "hessian = hessian_fn(x1, x2)\n",
    "print(\"hessian:\", hessian)"
   ]
  },
  {
   "cell_type": "markdown",
   "id": "671b3974",
   "metadata": {},
   "source": [
    "#### Compute the full Hessian automatically (Reverse-over-Forward)"
   ]
  },
  {
   "cell_type": "code",
   "execution_count": 30,
   "id": "ad5252fa",
   "metadata": {},
   "outputs": [
    {
     "name": "stdout",
     "output_type": "stream",
     "text": [
      "hessian: [[[[[  1.153804   0.         0.      ]\n",
      "  [  0.         0.         0.      ]\n",
      "  [  0.         0.         0.      ]]\n",
      "\n",
      " [[  0.         0.         0.      ]\n",
      "  [  0.        -9.493694   0.      ]\n",
      "  [  0.         0.         0.      ]]\n",
      "\n",
      " [[  0.         0.         0.      ]\n",
      "  [  0.         0.         0.      ]\n",
      "  [  0.         0.       -18.71728 ]]]:\u001b[95mf32[3\u001b[95m,\u001b[95m3\u001b[95m,\u001b[95m3]\u001b[0m, [[[ -0.9626724   0.          0.       ]\n",
      "  [  0.          0.          0.       ]\n",
      "  [  0.          0.          0.       ]]\n",
      "\n",
      " [[  0.          0.          0.       ]\n",
      "  [  0.         -5.7427444   0.       ]\n",
      "  [  0.          0.          0.       ]]\n",
      "\n",
      " [[  0.          0.          0.       ]\n",
      "  [  0.          0.          0.       ]\n",
      "  [  0.          0.        -12.757539 ]]]:\u001b[95mf32[3\u001b[95m,\u001b[95m3\u001b[95m,\u001b[95m3]\u001b[0m], [[[[ -0.96267235   0.           0.        ]\n",
      "  [  0.           0.           0.        ]\n",
      "  [  0.           0.           0.        ]]\n",
      "\n",
      " [[  0.           0.           0.        ]\n",
      "  [  0.          -5.742745     0.        ]\n",
      "  [  0.           0.           0.        ]]\n",
      "\n",
      " [[  0.           0.           0.        ]\n",
      "  [  0.           0.           0.        ]\n",
      "  [  0.           0.         -12.757539  ]]]:\u001b[95mf32[3\u001b[95m,\u001b[95m3\u001b[95m,\u001b[95m3]\u001b[0m, [[[-0.5168097  0.         0.       ]\n",
      "  [ 0.         0.         0.       ]\n",
      "  [ 0.         0.         0.       ]]\n",
      "\n",
      " [[ 0.         0.         0.       ]\n",
      "  [ 0.        -3.953551   0.       ]\n",
      "  [ 0.         0.         0.       ]]\n",
      "\n",
      " [[ 0.         0.         0.       ]\n",
      "  [ 0.         0.         0.       ]\n",
      "  [ 0.         0.        -9.776351 ]]]:\u001b[95mf32[3\u001b[95m,\u001b[95m3\u001b[95m,\u001b[95m3]\u001b[0m]]\n"
     ]
    }
   ],
   "source": [
    "jac_fn = nb.jacfwd(my_program)\n",
    "hessian_fn = nb.jacrev(jac_fn)\n",
    "hessian = hessian_fn(x1, x2)\n",
    "print(\"hessian:\", hessian)"
   ]
  }
 ],
 "metadata": {
  "kernelspec": {
   "display_name": "Python (Nabla Development)",
   "language": "python",
   "name": "nabla-dev"
  },
  "language_info": {
   "codemirror_mode": {
    "name": "ipython",
    "version": 3
   },
   "file_extension": ".py",
   "mimetype": "text/x-python",
   "name": "python",
   "nbconvert_exporter": "python",
   "pygments_lexer": "ipython3",
   "version": "3.12.4"
  }
 },
 "nbformat": 4,
 "nbformat_minor": 5
}
