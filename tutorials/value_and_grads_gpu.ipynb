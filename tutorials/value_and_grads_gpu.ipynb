{
 "cells": [
  {
   "cell_type": "markdown",
   "metadata": {},
   "source": [
    "# Value-and-Grads (GPU)\n",
    "\n",
    "This notebook demonstrates automatic differentiation using Nabla, which enables efficient computation of gradients for optimization algorithms. The `nb.vjp()` function computes both the forward pass value and provides a function for the backward pass (Vector-Jacobian Product).\n",
    "\n",
    "We try to target the GPU if available, but the code will also run on CPU.\n",
    "\n",
    "***Note**: Nabla only works on GPU for functions that are wrapped with `@nabla.jit`. This will trigger the MAX Graph compiler to create efficient GPU code. Eager GPU execution is not supported yet.*"
   ]
  },
  {
   "cell_type": "markdown",
   "metadata": {},
   "source": [
    "## Setup and Imports"
   ]
  },
  {
   "cell_type": "code",
   "execution_count": 1,
   "metadata": {},
   "outputs": [
    {
     "name": "stdout",
     "output_type": "stream",
     "text": [
      "🎉 Nabla is ready! Running on Python 3.12\n"
     ]
    }
   ],
   "source": [
    "# Installation\n",
    "import sys\n",
    "\n",
    "IN_COLAB = \"google.colab\" in sys.modules\n",
    "\n",
    "try:\n",
    "    import nabla as nb\n",
    "except ImportError:\n",
    "    import subprocess\n",
    "\n",
    "    subprocess.run(\n",
    "        [\n",
    "            sys.executable,\n",
    "            \"-m\",\n",
    "            \"pip\",\n",
    "            \"install\",\n",
    "            \"modular\",\n",
    "            \"--extra-index-url\",\n",
    "            \"https://download.pytorch.org/whl/cpu\",\n",
    "            \"--index-url\",\n",
    "            \"https://dl.modular.com/public/nightly/python/simple/\",\n",
    "        ],\n",
    "        check=True,\n",
    "    )\n",
    "    subprocess.run(\n",
    "        [sys.executable, \"-m\", \"pip\", \"install\", \"nabla-ml\", \"--upgrade\"], check=True\n",
    "    )\n",
    "    import nabla as nb\n",
    "\n",
    "print(\n",
    "    f\"🎉 Nabla is ready! Running on Python {sys.version_info.major}.{sys.version_info.minor}\"\n",
    ")"
   ]
  },
  {
   "cell_type": "code",
   "execution_count": 3,
   "metadata": {},
   "outputs": [
    {
     "name": "stdout",
     "output_type": "stream",
     "text": [
      "Using device: Device(type=gpu,id=0)\n"
     ]
    }
   ],
   "source": [
    "# Device setup\n",
    "device = nb.cpu() if nb.accelerator_count() == 0 else nb.accelerator()\n",
    "print(f\"Using device: {device}\")"
   ]
  },
  {
   "cell_type": "markdown",
   "metadata": {},
   "source": [
    "## Define Function with Automatic Differentiation\n",
    "\n",
    "Create a JIT-compiled function that computes both the value and gradients."
   ]
  },
  {
   "cell_type": "code",
   "execution_count": 7,
   "metadata": {},
   "outputs": [],
   "source": [
    "@nb.jit(show_graph=False)\n",
    "def compute_with_gradients(x, y):\n",
    "    def computation(x, y):\n",
    "        return nb.sin(x * y) * 2\n",
    "\n",
    "    value, vjp_fn = nb.vjp(computation, x, y)\n",
    "    return value, vjp_fn(nb.ones_like(value))"
   ]
  },
  {
   "cell_type": "markdown",
   "metadata": {},
   "source": [
    "## Create Input Tensors\n",
    "\n",
    "Generate 2×3 tensors and move them to the target device."
   ]
  },
  {
   "cell_type": "code",
   "execution_count": 8,
   "metadata": {},
   "outputs": [],
   "source": [
    "# Create tensors\n",
    "a = nb.arange((2, 3)).to(device)\n",
    "b = nb.arange((2, 3)).to(device)"
   ]
  },
  {
   "cell_type": "markdown",
   "metadata": {},
   "source": [
    "## Compute Values and Gradients\n",
    "\n",
    "Execute the function to get both the computed values and their gradients.\n",
    "\n",
    "The output shows:\n",
    "- The first tensor contains the function values for `sin(a * b) * 2`.\n",
    "- The second tuple contains the gradients `(∂f/∂a, ∂f/∂b)` with respect to inputs `a` and `b`."
   ]
  },
  {
   "cell_type": "code",
   "execution_count": 9,
   "metadata": {},
   "outputs": [
    {
     "data": {
      "text/plain": [
       "([[ 0.          1.6829418  -1.5136048 ]\n",
       "  [ 0.82423794 -0.57580525 -0.2647073 ]]:\u001b[95mf32[2\u001b[95m,\u001b[95m3]\u001b[0m,\n",
       " ([[ 0.         1.0806047 -2.6145742]\n",
       "   [-5.4667797 -7.6612773  9.9120245]]:\u001b[95mf32[2\u001b[95m,\u001b[95m3]\u001b[0m,\n",
       "  [[ 0.         1.0806047 -2.6145742]\n",
       "   [-5.4667797 -7.6612773  9.9120245]]:\u001b[95mf32[2\u001b[95m,\u001b[95m3]\u001b[0m))"
      ]
     },
     "execution_count": 9,
     "metadata": {},
     "output_type": "execute_result"
    }
   ],
   "source": [
    "# Compute and print results\n",
    "value, grads = compute_with_gradients(a, b)\n",
    "value, grads"
   ]
  }
 ],
 "metadata": {
  "kernelspec": {
   "display_name": "base",
   "language": "python",
   "name": "python3"
  },
  "language_info": {
   "codemirror_mode": {
    "name": "ipython",
    "version": 3
   },
   "file_extension": ".py",
   "mimetype": "text/x-python",
   "name": "python",
   "nbconvert_exporter": "python",
   "pygments_lexer": "ipython3",
   "version": "3.12.4"
  }
 },
 "nbformat": 4,
 "nbformat_minor": 1
}
